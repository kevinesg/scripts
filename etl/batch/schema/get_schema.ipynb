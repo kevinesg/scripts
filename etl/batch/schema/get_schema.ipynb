{
 "cells": [
  {
   "cell_type": "code",
   "execution_count": 1,
   "metadata": {},
   "outputs": [],
   "source": [
    "import time\n",
    "import os\n",
    "from google.cloud import bigquery\n",
    "from google.oauth2 import service_account\n",
    "\n",
    "from dotenv import load_dotenv\n",
    "load_dotenv()\n",
    "bigquery_creds = os.getenv(\"SERVICE_ACCOUNT_CREDS\")\n",
    "credentials = service_account.Credentials.from_service_account_file(bigquery_creds)\n",
    "client = bigquery.Client(credentials=credentials, project=credentials.project_id)"
   ]
  },
  {
   "cell_type": "code",
   "execution_count": 2,
   "metadata": {},
   "outputs": [],
   "source": [
    "from google.cloud import bigquery\n",
    "\n",
    "def get_bigquery_table_schema_for_json(project_id, dataset_id, table_id):\n",
    "    # Construct the full table ID\n",
    "    table_ref = f\"{project_id}.{dataset_id}.{table_id}\"\n",
    "\n",
    "    # Get the table\n",
    "    table = client.get_table(table_ref)  # API Request\n",
    "\n",
    "    # Convert schema to JSON-like structure\n",
    "    schema_json = []\n",
    "    for field in table.schema:\n",
    "        field_dict = {\n",
    "            \"name\": field.name,\n",
    "            \"type\": field.field_type,\n",
    "            \"mode\": field.mode\n",
    "        }\n",
    "        # Add nested fields if the field is a RECORD type (for nested structures)\n",
    "        if field.field_type == \"RECORD\":\n",
    "            field_dict[\"fields\"] = convert_subfields(field.fields)\n",
    "\n",
    "        schema_json.append(field_dict)\n",
    "\n",
    "    return schema_json\n",
    "\n",
    "def convert_subfields(fields):\n",
    "    subfields_json = []\n",
    "    for subfield in fields:\n",
    "        subfield_dict = {\n",
    "            \"name\": subfield.name,\n",
    "            \"type\": subfield.field_type,\n",
    "            \"mode\": subfield.mode\n",
    "        }\n",
    "        if subfield.field_type == \"RECORD\":\n",
    "            subfield_dict[\"fields\"] = convert_subfields(subfield.fields)\n",
    "        subfields_json.append(subfield_dict)\n",
    "    return subfields_json\n",
    "\n",
    "# Example usage\n",
    "project_id = 'kevinesg-production'\n",
    "dataset_id = 'raw'\n",
    "table_id = 'ledger'\n",
    "\n",
    "schema_json_format = get_bigquery_table_schema_for_json(project_id, dataset_id, table_id)\n",
    "\n",
    "# schema_json_format is now ready to be used with client.schema_from_json()\n"
   ]
  },
  {
   "cell_type": "code",
   "execution_count": 4,
   "metadata": {},
   "outputs": [
    {
     "data": {
      "text/plain": [
       "[{'name': 'id', 'type': 'STRING', 'mode': 'NULLABLE'},\n",
       " {'name': 'year', 'type': 'INTEGER', 'mode': 'NULLABLE'},\n",
       " {'name': 'month', 'type': 'INTEGER', 'mode': 'NULLABLE'},\n",
       " {'name': 'day', 'type': 'INTEGER', 'mode': 'NULLABLE'},\n",
       " {'name': 'item', 'type': 'STRING', 'mode': 'NULLABLE'},\n",
       " {'name': 'type', 'type': 'STRING', 'mode': 'NULLABLE'},\n",
       " {'name': 'cost', 'type': 'FLOAT', 'mode': 'NULLABLE'},\n",
       " {'name': 'to', 'type': 'STRING', 'mode': 'NULLABLE'},\n",
       " {'name': 'store', 'type': 'STRING', 'mode': 'NULLABLE'},\n",
       " {'name': 'source', 'type': 'STRING', 'mode': 'NULLABLE'},\n",
       " {'name': 'created_at', 'type': 'STRING', 'mode': 'NULLABLE'},\n",
       " {'name': 'updated_at', 'type': 'STRING', 'mode': 'NULLABLE'}]"
      ]
     },
     "execution_count": 4,
     "metadata": {},
     "output_type": "execute_result"
    }
   ],
   "source": [
    "schema_json_format"
   ]
  }
 ],
 "metadata": {
  "kernelspec": {
   "display_name": "scripts-batch",
   "language": "python",
   "name": "python3"
  },
  "language_info": {
   "codemirror_mode": {
    "name": "ipython",
    "version": 3
   },
   "file_extension": ".py",
   "mimetype": "text/x-python",
   "name": "python",
   "nbconvert_exporter": "python",
   "pygments_lexer": "ipython3",
   "version": "3.12.4"
  }
 },
 "nbformat": 4,
 "nbformat_minor": 2
}
